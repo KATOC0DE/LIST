{
 "cells": [
  {
   "cell_type": "code",
   "execution_count": null,
   "metadata": {
    "colab": {
     "base_uri": "https://localhost:8080/"
    },
    "id": "zeMmS2Puda7n",
    "outputId": "af0607f5-f1a3-4921-e098-69356242c38e"
   },
   "outputs": [
    {
     "name": "stdout",
     "output_type": "stream",
     "text": [
      "['apple', 'banana', 'cherry']\n"
     ]
    }
   ],
   "source": [
    "thislist = [\"apple\", \"banana\", \"cherry\"]\n",
    "print(thislist)"
   ]
  },
  {
   "cell_type": "code",
   "execution_count": null,
   "metadata": {
    "colab": {
     "base_uri": "https://localhost:8080/"
    },
    "id": "nnt2-H2beLQL",
    "outputId": "0f79389f-6a2e-4b44-febc-e43e6f030606"
   },
   "outputs": [
    {
     "name": "stdout",
     "output_type": "stream",
     "text": [
      "['abc', 34, True, 40, 'male']\n",
      "5\n"
     ]
    }
   ],
   "source": [
    "list = [\"abc\", 34, True, 40, \"male\"]\n",
    "print(list)\n",
    "print(len(list))"
   ]
  },
  {
   "cell_type": "code",
   "execution_count": null,
   "metadata": {
    "colab": {
     "base_uri": "https://localhost:8080/"
    },
    "id": "aEQvuTAEKCWz",
    "outputId": "e60af3a0-16ca-49a2-9265-ce99874ce391"
   },
   "outputs": [
    {
     "name": "stdout",
     "output_type": "stream",
     "text": [
      "[['a', 'b', 'c', 'd'], ['*', '**', '***', '****']]\n"
     ]
    }
   ],
   "source": [
    "# if you want variables in the list\n",
    "\n",
    "# start you need to make a variable with a list first\n",
    "var1 = ['a','b','c','d']\n",
    "var2 = [1,2,3,4]\n",
    "var3 = ['*','**','***','****']\n",
    "var4 = ['/','//','///','////']\n",
    "\n",
    "# create new variable of list to keep the varibles above\n",
    "var_list = [var1,var2,var3,var4]\n",
    "\n",
    "# to print : use variable of new list follow [index start : stop : step ]\n",
    "print(var_list[0:4:2])"
   ]
  },
  {
   "cell_type": "code",
   "execution_count": null,
   "metadata": {
    "colab": {
     "base_uri": "https://localhost:8080/"
    },
    "id": "OB3kqHpDdW8s",
    "outputId": "ad623460-fe0d-4806-e53e-a606dadea9c9"
   },
   "outputs": [
    {
     "name": "stdout",
     "output_type": "stream",
     "text": [
      "['apple', 'banana', 'cherry']\n",
      "[1, 5, 7, 9, 3]\n",
      "[True, False, False]\n"
     ]
    }
   ],
   "source": [
    "list1 = [\"apple\", \"banana\", \"cherry\"]\n",
    "list2 = [1, 5, 7, 9, 3]\n",
    "list3 = [True, False, False]\n",
    "\n",
    "print(list1)\n",
    "print(list2)\n",
    "print(list3)"
   ]
  }
 ],
 "metadata": {
  "colab": {
   "provenance": []
  },
  "kernelspec": {
   "display_name": "Python 3 (ipykernel)",
   "language": "python",
   "name": "python3"
  },
  "language_info": {
   "codemirror_mode": {
    "name": "ipython",
    "version": 3
   },
   "file_extension": ".py",
   "mimetype": "text/x-python",
   "name": "python",
   "nbconvert_exporter": "python",
   "pygments_lexer": "ipython3",
   "version": "3.11.4"
  }
 },
 "nbformat": 4,
 "nbformat_minor": 1
}
